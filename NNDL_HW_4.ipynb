{
  "nbformat": 4,
  "nbformat_minor": 0,
  "metadata": {
    "colab": {
      "provenance": []
    },
    "kernelspec": {
      "name": "python3",
      "display_name": "Python 3"
    },
    "language_info": {
      "name": "python"
    },
    "widgets": {
      "application/vnd.jupyter.widget-state+json": {
        "cd0c5a8d24bc4704b52751efd5d74059": {
          "model_module": "@jupyter-widgets/controls",
          "model_name": "HBoxModel",
          "model_module_version": "1.5.0",
          "state": {
            "_dom_classes": [],
            "_model_module": "@jupyter-widgets/controls",
            "_model_module_version": "1.5.0",
            "_model_name": "HBoxModel",
            "_view_count": null,
            "_view_module": "@jupyter-widgets/controls",
            "_view_module_version": "1.5.0",
            "_view_name": "HBoxView",
            "box_style": "",
            "children": [
              "IPY_MODEL_0d45ce882af14da68c91389fda0d9d0b",
              "IPY_MODEL_1bd9d3fb582f41f0881c91a60c98f455",
              "IPY_MODEL_3b1e2ed40cdd44828a55a15736dca248"
            ],
            "layout": "IPY_MODEL_03051cccef1f43209d7a68ed2747eb38"
          }
        },
        "0d45ce882af14da68c91389fda0d9d0b": {
          "model_module": "@jupyter-widgets/controls",
          "model_name": "HTMLModel",
          "model_module_version": "1.5.0",
          "state": {
            "_dom_classes": [],
            "_model_module": "@jupyter-widgets/controls",
            "_model_module_version": "1.5.0",
            "_model_name": "HTMLModel",
            "_view_count": null,
            "_view_module": "@jupyter-widgets/controls",
            "_view_module_version": "1.5.0",
            "_view_name": "HTMLView",
            "description": "",
            "description_tooltip": null,
            "layout": "IPY_MODEL_cfbf9fbb6c3d40feb0ec35f2fdfe9d42",
            "placeholder": "​",
            "style": "IPY_MODEL_20d0c8d22df94acdbf7192d65aba47c8",
            "value": "Dl Completed...: 100%"
          }
        },
        "1bd9d3fb582f41f0881c91a60c98f455": {
          "model_module": "@jupyter-widgets/controls",
          "model_name": "FloatProgressModel",
          "model_module_version": "1.5.0",
          "state": {
            "_dom_classes": [],
            "_model_module": "@jupyter-widgets/controls",
            "_model_module_version": "1.5.0",
            "_model_name": "FloatProgressModel",
            "_view_count": null,
            "_view_module": "@jupyter-widgets/controls",
            "_view_module_version": "1.5.0",
            "_view_name": "ProgressView",
            "bar_style": "success",
            "description": "",
            "description_tooltip": null,
            "layout": "IPY_MODEL_e9bea9f010654267b42e0c2386c9ae23",
            "max": 5,
            "min": 0,
            "orientation": "horizontal",
            "style": "IPY_MODEL_2492ea18e4e046aa9fd7b9b70fc9ecdc",
            "value": 5
          }
        },
        "3b1e2ed40cdd44828a55a15736dca248": {
          "model_module": "@jupyter-widgets/controls",
          "model_name": "HTMLModel",
          "model_module_version": "1.5.0",
          "state": {
            "_dom_classes": [],
            "_model_module": "@jupyter-widgets/controls",
            "_model_module_version": "1.5.0",
            "_model_name": "HTMLModel",
            "_view_count": null,
            "_view_module": "@jupyter-widgets/controls",
            "_view_module_version": "1.5.0",
            "_view_name": "HTMLView",
            "description": "",
            "description_tooltip": null,
            "layout": "IPY_MODEL_213f6fd26cce428fb198ffebbec3d9b5",
            "placeholder": "​",
            "style": "IPY_MODEL_a6f789e6010846f5b520142b41b2a0e3",
            "value": " 5/5 [00:01&lt;00:00,  4.15 file/s]"
          }
        },
        "03051cccef1f43209d7a68ed2747eb38": {
          "model_module": "@jupyter-widgets/base",
          "model_name": "LayoutModel",
          "model_module_version": "1.2.0",
          "state": {
            "_model_module": "@jupyter-widgets/base",
            "_model_module_version": "1.2.0",
            "_model_name": "LayoutModel",
            "_view_count": null,
            "_view_module": "@jupyter-widgets/base",
            "_view_module_version": "1.2.0",
            "_view_name": "LayoutView",
            "align_content": null,
            "align_items": null,
            "align_self": null,
            "border": null,
            "bottom": null,
            "display": null,
            "flex": null,
            "flex_flow": null,
            "grid_area": null,
            "grid_auto_columns": null,
            "grid_auto_flow": null,
            "grid_auto_rows": null,
            "grid_column": null,
            "grid_gap": null,
            "grid_row": null,
            "grid_template_areas": null,
            "grid_template_columns": null,
            "grid_template_rows": null,
            "height": null,
            "justify_content": null,
            "justify_items": null,
            "left": null,
            "margin": null,
            "max_height": null,
            "max_width": null,
            "min_height": null,
            "min_width": null,
            "object_fit": null,
            "object_position": null,
            "order": null,
            "overflow": null,
            "overflow_x": null,
            "overflow_y": null,
            "padding": null,
            "right": null,
            "top": null,
            "visibility": null,
            "width": null
          }
        },
        "cfbf9fbb6c3d40feb0ec35f2fdfe9d42": {
          "model_module": "@jupyter-widgets/base",
          "model_name": "LayoutModel",
          "model_module_version": "1.2.0",
          "state": {
            "_model_module": "@jupyter-widgets/base",
            "_model_module_version": "1.2.0",
            "_model_name": "LayoutModel",
            "_view_count": null,
            "_view_module": "@jupyter-widgets/base",
            "_view_module_version": "1.2.0",
            "_view_name": "LayoutView",
            "align_content": null,
            "align_items": null,
            "align_self": null,
            "border": null,
            "bottom": null,
            "display": null,
            "flex": null,
            "flex_flow": null,
            "grid_area": null,
            "grid_auto_columns": null,
            "grid_auto_flow": null,
            "grid_auto_rows": null,
            "grid_column": null,
            "grid_gap": null,
            "grid_row": null,
            "grid_template_areas": null,
            "grid_template_columns": null,
            "grid_template_rows": null,
            "height": null,
            "justify_content": null,
            "justify_items": null,
            "left": null,
            "margin": null,
            "max_height": null,
            "max_width": null,
            "min_height": null,
            "min_width": null,
            "object_fit": null,
            "object_position": null,
            "order": null,
            "overflow": null,
            "overflow_x": null,
            "overflow_y": null,
            "padding": null,
            "right": null,
            "top": null,
            "visibility": null,
            "width": null
          }
        },
        "20d0c8d22df94acdbf7192d65aba47c8": {
          "model_module": "@jupyter-widgets/controls",
          "model_name": "DescriptionStyleModel",
          "model_module_version": "1.5.0",
          "state": {
            "_model_module": "@jupyter-widgets/controls",
            "_model_module_version": "1.5.0",
            "_model_name": "DescriptionStyleModel",
            "_view_count": null,
            "_view_module": "@jupyter-widgets/base",
            "_view_module_version": "1.2.0",
            "_view_name": "StyleView",
            "description_width": ""
          }
        },
        "e9bea9f010654267b42e0c2386c9ae23": {
          "model_module": "@jupyter-widgets/base",
          "model_name": "LayoutModel",
          "model_module_version": "1.2.0",
          "state": {
            "_model_module": "@jupyter-widgets/base",
            "_model_module_version": "1.2.0",
            "_model_name": "LayoutModel",
            "_view_count": null,
            "_view_module": "@jupyter-widgets/base",
            "_view_module_version": "1.2.0",
            "_view_name": "LayoutView",
            "align_content": null,
            "align_items": null,
            "align_self": null,
            "border": null,
            "bottom": null,
            "display": null,
            "flex": null,
            "flex_flow": null,
            "grid_area": null,
            "grid_auto_columns": null,
            "grid_auto_flow": null,
            "grid_auto_rows": null,
            "grid_column": null,
            "grid_gap": null,
            "grid_row": null,
            "grid_template_areas": null,
            "grid_template_columns": null,
            "grid_template_rows": null,
            "height": null,
            "justify_content": null,
            "justify_items": null,
            "left": null,
            "margin": null,
            "max_height": null,
            "max_width": null,
            "min_height": null,
            "min_width": null,
            "object_fit": null,
            "object_position": null,
            "order": null,
            "overflow": null,
            "overflow_x": null,
            "overflow_y": null,
            "padding": null,
            "right": null,
            "top": null,
            "visibility": null,
            "width": null
          }
        },
        "2492ea18e4e046aa9fd7b9b70fc9ecdc": {
          "model_module": "@jupyter-widgets/controls",
          "model_name": "ProgressStyleModel",
          "model_module_version": "1.5.0",
          "state": {
            "_model_module": "@jupyter-widgets/controls",
            "_model_module_version": "1.5.0",
            "_model_name": "ProgressStyleModel",
            "_view_count": null,
            "_view_module": "@jupyter-widgets/base",
            "_view_module_version": "1.2.0",
            "_view_name": "StyleView",
            "bar_color": null,
            "description_width": ""
          }
        },
        "213f6fd26cce428fb198ffebbec3d9b5": {
          "model_module": "@jupyter-widgets/base",
          "model_name": "LayoutModel",
          "model_module_version": "1.2.0",
          "state": {
            "_model_module": "@jupyter-widgets/base",
            "_model_module_version": "1.2.0",
            "_model_name": "LayoutModel",
            "_view_count": null,
            "_view_module": "@jupyter-widgets/base",
            "_view_module_version": "1.2.0",
            "_view_name": "LayoutView",
            "align_content": null,
            "align_items": null,
            "align_self": null,
            "border": null,
            "bottom": null,
            "display": null,
            "flex": null,
            "flex_flow": null,
            "grid_area": null,
            "grid_auto_columns": null,
            "grid_auto_flow": null,
            "grid_auto_rows": null,
            "grid_column": null,
            "grid_gap": null,
            "grid_row": null,
            "grid_template_areas": null,
            "grid_template_columns": null,
            "grid_template_rows": null,
            "height": null,
            "justify_content": null,
            "justify_items": null,
            "left": null,
            "margin": null,
            "max_height": null,
            "max_width": null,
            "min_height": null,
            "min_width": null,
            "object_fit": null,
            "object_position": null,
            "order": null,
            "overflow": null,
            "overflow_x": null,
            "overflow_y": null,
            "padding": null,
            "right": null,
            "top": null,
            "visibility": null,
            "width": null
          }
        },
        "a6f789e6010846f5b520142b41b2a0e3": {
          "model_module": "@jupyter-widgets/controls",
          "model_name": "DescriptionStyleModel",
          "model_module_version": "1.5.0",
          "state": {
            "_model_module": "@jupyter-widgets/controls",
            "_model_module_version": "1.5.0",
            "_model_name": "DescriptionStyleModel",
            "_view_count": null,
            "_view_module": "@jupyter-widgets/base",
            "_view_module_version": "1.2.0",
            "_view_name": "StyleView",
            "description_width": ""
          }
        }
      }
    }
  },
  "cells": [
    {
      "cell_type": "markdown",
      "source": [
        "SUBMITTED BY: SHREYA PANDE"
      ],
      "metadata": {
        "id": "ycsbkyDTeSaV"
      }
    },
    {
      "cell_type": "markdown",
      "source": [
        "Installing tensorflow"
      ],
      "metadata": {
        "id": "FE8ERzYbqVrX"
      }
    },
    {
      "cell_type": "code",
      "source": [
        "pip install tensorflow tensorflow-datasets"
      ],
      "metadata": {
        "id": "kXbSCBh9jPOu",
        "colab": {
          "base_uri": "https://localhost:8080/"
        },
        "outputId": "f3e9dc17-394e-4a84-e589-1e9c69988057"
      },
      "execution_count": 2,
      "outputs": [
        {
          "output_type": "stream",
          "name": "stdout",
          "text": [
            "Requirement already satisfied: tensorflow in /usr/local/lib/python3.10/dist-packages (2.12.0)\n",
            "Requirement already satisfied: tensorflow-datasets in /usr/local/lib/python3.10/dist-packages (4.9.2)\n",
            "Requirement already satisfied: absl-py>=1.0.0 in /usr/local/lib/python3.10/dist-packages (from tensorflow) (1.4.0)\n",
            "Requirement already satisfied: astunparse>=1.6.0 in /usr/local/lib/python3.10/dist-packages (from tensorflow) (1.6.3)\n",
            "Requirement already satisfied: flatbuffers>=2.0 in /usr/local/lib/python3.10/dist-packages (from tensorflow) (23.5.26)\n",
            "Requirement already satisfied: gast<=0.4.0,>=0.2.1 in /usr/local/lib/python3.10/dist-packages (from tensorflow) (0.4.0)\n",
            "Requirement already satisfied: google-pasta>=0.1.1 in /usr/local/lib/python3.10/dist-packages (from tensorflow) (0.2.0)\n",
            "Requirement already satisfied: grpcio<2.0,>=1.24.3 in /usr/local/lib/python3.10/dist-packages (from tensorflow) (1.56.2)\n",
            "Requirement already satisfied: h5py>=2.9.0 in /usr/local/lib/python3.10/dist-packages (from tensorflow) (3.8.0)\n",
            "Requirement already satisfied: jax>=0.3.15 in /usr/local/lib/python3.10/dist-packages (from tensorflow) (0.4.13)\n",
            "Requirement already satisfied: keras<2.13,>=2.12.0 in /usr/local/lib/python3.10/dist-packages (from tensorflow) (2.12.0)\n",
            "Requirement already satisfied: libclang>=13.0.0 in /usr/local/lib/python3.10/dist-packages (from tensorflow) (16.0.6)\n",
            "Requirement already satisfied: numpy<1.24,>=1.22 in /usr/local/lib/python3.10/dist-packages (from tensorflow) (1.22.4)\n",
            "Requirement already satisfied: opt-einsum>=2.3.2 in /usr/local/lib/python3.10/dist-packages (from tensorflow) (3.3.0)\n",
            "Requirement already satisfied: packaging in /usr/local/lib/python3.10/dist-packages (from tensorflow) (23.1)\n",
            "Requirement already satisfied: protobuf!=4.21.0,!=4.21.1,!=4.21.2,!=4.21.3,!=4.21.4,!=4.21.5,<5.0.0dev,>=3.20.3 in /usr/local/lib/python3.10/dist-packages (from tensorflow) (3.20.3)\n",
            "Requirement already satisfied: setuptools in /usr/local/lib/python3.10/dist-packages (from tensorflow) (67.7.2)\n",
            "Requirement already satisfied: six>=1.12.0 in /usr/local/lib/python3.10/dist-packages (from tensorflow) (1.16.0)\n",
            "Requirement already satisfied: tensorboard<2.13,>=2.12 in /usr/local/lib/python3.10/dist-packages (from tensorflow) (2.12.3)\n",
            "Requirement already satisfied: tensorflow-estimator<2.13,>=2.12.0 in /usr/local/lib/python3.10/dist-packages (from tensorflow) (2.12.0)\n",
            "Requirement already satisfied: termcolor>=1.1.0 in /usr/local/lib/python3.10/dist-packages (from tensorflow) (2.3.0)\n",
            "Requirement already satisfied: typing-extensions>=3.6.6 in /usr/local/lib/python3.10/dist-packages (from tensorflow) (4.7.1)\n",
            "Requirement already satisfied: wrapt<1.15,>=1.11.0 in /usr/local/lib/python3.10/dist-packages (from tensorflow) (1.14.1)\n",
            "Requirement already satisfied: tensorflow-io-gcs-filesystem>=0.23.1 in /usr/local/lib/python3.10/dist-packages (from tensorflow) (0.32.0)\n",
            "Requirement already satisfied: array-record in /usr/local/lib/python3.10/dist-packages (from tensorflow-datasets) (0.4.0)\n",
            "Requirement already satisfied: click in /usr/local/lib/python3.10/dist-packages (from tensorflow-datasets) (8.1.6)\n",
            "Requirement already satisfied: dm-tree in /usr/local/lib/python3.10/dist-packages (from tensorflow-datasets) (0.1.8)\n",
            "Requirement already satisfied: etils[enp,epath]>=0.9.0 in /usr/local/lib/python3.10/dist-packages (from tensorflow-datasets) (1.4.0)\n",
            "Requirement already satisfied: promise in /usr/local/lib/python3.10/dist-packages (from tensorflow-datasets) (2.3)\n",
            "Requirement already satisfied: psutil in /usr/local/lib/python3.10/dist-packages (from tensorflow-datasets) (5.9.5)\n",
            "Requirement already satisfied: requests>=2.19.0 in /usr/local/lib/python3.10/dist-packages (from tensorflow-datasets) (2.27.1)\n",
            "Requirement already satisfied: tensorflow-metadata in /usr/local/lib/python3.10/dist-packages (from tensorflow-datasets) (1.13.1)\n",
            "Requirement already satisfied: toml in /usr/local/lib/python3.10/dist-packages (from tensorflow-datasets) (0.10.2)\n",
            "Requirement already satisfied: tqdm in /usr/local/lib/python3.10/dist-packages (from tensorflow-datasets) (4.65.0)\n",
            "Requirement already satisfied: wheel<1.0,>=0.23.0 in /usr/local/lib/python3.10/dist-packages (from astunparse>=1.6.0->tensorflow) (0.41.0)\n",
            "Requirement already satisfied: importlib_resources in /usr/local/lib/python3.10/dist-packages (from etils[enp,epath]>=0.9.0->tensorflow-datasets) (6.0.0)\n",
            "Requirement already satisfied: zipp in /usr/local/lib/python3.10/dist-packages (from etils[enp,epath]>=0.9.0->tensorflow-datasets) (3.16.2)\n",
            "Requirement already satisfied: ml-dtypes>=0.1.0 in /usr/local/lib/python3.10/dist-packages (from jax>=0.3.15->tensorflow) (0.2.0)\n",
            "Requirement already satisfied: scipy>=1.7 in /usr/local/lib/python3.10/dist-packages (from jax>=0.3.15->tensorflow) (1.10.1)\n",
            "Requirement already satisfied: urllib3<1.27,>=1.21.1 in /usr/local/lib/python3.10/dist-packages (from requests>=2.19.0->tensorflow-datasets) (1.26.16)\n",
            "Requirement already satisfied: certifi>=2017.4.17 in /usr/local/lib/python3.10/dist-packages (from requests>=2.19.0->tensorflow-datasets) (2023.7.22)\n",
            "Requirement already satisfied: charset-normalizer~=2.0.0 in /usr/local/lib/python3.10/dist-packages (from requests>=2.19.0->tensorflow-datasets) (2.0.12)\n",
            "Requirement already satisfied: idna<4,>=2.5 in /usr/local/lib/python3.10/dist-packages (from requests>=2.19.0->tensorflow-datasets) (3.4)\n",
            "Requirement already satisfied: google-auth<3,>=1.6.3 in /usr/local/lib/python3.10/dist-packages (from tensorboard<2.13,>=2.12->tensorflow) (2.17.3)\n",
            "Requirement already satisfied: google-auth-oauthlib<1.1,>=0.5 in /usr/local/lib/python3.10/dist-packages (from tensorboard<2.13,>=2.12->tensorflow) (1.0.0)\n",
            "Requirement already satisfied: markdown>=2.6.8 in /usr/local/lib/python3.10/dist-packages (from tensorboard<2.13,>=2.12->tensorflow) (3.4.4)\n",
            "Requirement already satisfied: tensorboard-data-server<0.8.0,>=0.7.0 in /usr/local/lib/python3.10/dist-packages (from tensorboard<2.13,>=2.12->tensorflow) (0.7.1)\n",
            "Requirement already satisfied: werkzeug>=1.0.1 in /usr/local/lib/python3.10/dist-packages (from tensorboard<2.13,>=2.12->tensorflow) (2.3.6)\n",
            "Requirement already satisfied: googleapis-common-protos<2,>=1.52.0 in /usr/local/lib/python3.10/dist-packages (from tensorflow-metadata->tensorflow-datasets) (1.59.1)\n",
            "Requirement already satisfied: cachetools<6.0,>=2.0.0 in /usr/local/lib/python3.10/dist-packages (from google-auth<3,>=1.6.3->tensorboard<2.13,>=2.12->tensorflow) (5.3.1)\n",
            "Requirement already satisfied: pyasn1-modules>=0.2.1 in /usr/local/lib/python3.10/dist-packages (from google-auth<3,>=1.6.3->tensorboard<2.13,>=2.12->tensorflow) (0.3.0)\n",
            "Requirement already satisfied: rsa<5,>=3.1.4 in /usr/local/lib/python3.10/dist-packages (from google-auth<3,>=1.6.3->tensorboard<2.13,>=2.12->tensorflow) (4.9)\n",
            "Requirement already satisfied: requests-oauthlib>=0.7.0 in /usr/local/lib/python3.10/dist-packages (from google-auth-oauthlib<1.1,>=0.5->tensorboard<2.13,>=2.12->tensorflow) (1.3.1)\n",
            "Requirement already satisfied: MarkupSafe>=2.1.1 in /usr/local/lib/python3.10/dist-packages (from werkzeug>=1.0.1->tensorboard<2.13,>=2.12->tensorflow) (2.1.3)\n",
            "Requirement already satisfied: pyasn1<0.6.0,>=0.4.6 in /usr/local/lib/python3.10/dist-packages (from pyasn1-modules>=0.2.1->google-auth<3,>=1.6.3->tensorboard<2.13,>=2.12->tensorflow) (0.5.0)\n",
            "Requirement already satisfied: oauthlib>=3.0.0 in /usr/local/lib/python3.10/dist-packages (from requests-oauthlib>=0.7.0->google-auth-oauthlib<1.1,>=0.5->tensorboard<2.13,>=2.12->tensorflow) (3.2.2)\n"
          ]
        }
      ]
    },
    {
      "cell_type": "markdown",
      "source": [
        "Getting the version check ✔"
      ],
      "metadata": {
        "id": "zrOboFcFqYnY"
      }
    },
    {
      "cell_type": "code",
      "source": [
        "import tensorflow as tf\n",
        "import tensorflow_datasets as tfds\n",
        "print(tf.__version__) #YOUR TF VERSION CHECK\n",
        "print(tfds.__version__) #YOUR TFDS VERSION CHECK"
      ],
      "metadata": {
        "colab": {
          "base_uri": "https://localhost:8080/"
        },
        "id": "FJY1VxmsNhKW",
        "outputId": "db953ca7-8c5c-437e-a911-8f16083efeca"
      },
      "execution_count": 3,
      "outputs": [
        {
          "output_type": "stream",
          "name": "stdout",
          "text": [
            "2.12.0\n",
            "4.9.2\n"
          ]
        }
      ]
    },
    {
      "cell_type": "markdown",
      "source": [
        "1.1 Loading dataset and building input pipelines"
      ],
      "metadata": {
        "id": "JQHfLpMVqitu"
      }
    },
    {
      "cell_type": "code",
      "source": [
        "def load_dataset():\n",
        "    dataset_name = 'mnist'\n",
        "    ds_train, ds_info = tfds.load(\n",
        "        dataset_name,\n",
        "        split='train[:90%]',\n",
        "        shuffle_files=True,\n",
        "        as_supervised=True,\n",
        "        with_info=True\n",
        "    )\n",
        "    ds_test = tfds.load(\n",
        "        dataset_name,\n",
        "        split='train[90%:]',\n",
        "        shuffle_files=True,\n",
        "        as_supervised=True,\n",
        "    )\n",
        "    return ds_train, ds_test, ds_info"
      ],
      "metadata": {
        "id": "PlU9Yds1oKEI"
      },
      "execution_count": 4,
      "outputs": []
    },
    {
      "cell_type": "code",
      "source": [
        "ds_train, ds_test, ds_info = load_dataset()\n",
        "for image, label in ds_train.take(1):\n",
        "    print(image.shape)"
      ],
      "metadata": {
        "colab": {
          "base_uri": "https://localhost:8080/",
          "height": 101,
          "referenced_widgets": [
            "cd0c5a8d24bc4704b52751efd5d74059",
            "0d45ce882af14da68c91389fda0d9d0b",
            "1bd9d3fb582f41f0881c91a60c98f455",
            "3b1e2ed40cdd44828a55a15736dca248",
            "03051cccef1f43209d7a68ed2747eb38",
            "cfbf9fbb6c3d40feb0ec35f2fdfe9d42",
            "20d0c8d22df94acdbf7192d65aba47c8",
            "e9bea9f010654267b42e0c2386c9ae23",
            "2492ea18e4e046aa9fd7b9b70fc9ecdc",
            "213f6fd26cce428fb198ffebbec3d9b5",
            "a6f789e6010846f5b520142b41b2a0e3"
          ]
        },
        "id": "vjIYUQmZqyfA",
        "outputId": "9fa7ff0c-a77a-4a9c-a84f-ea5b0b09a3cf"
      },
      "execution_count": 5,
      "outputs": [
        {
          "output_type": "stream",
          "name": "stdout",
          "text": [
            "Downloading and preparing dataset 11.06 MiB (download: 11.06 MiB, generated: 21.00 MiB, total: 32.06 MiB) to /root/tensorflow_datasets/mnist/3.0.1...\n"
          ]
        },
        {
          "output_type": "display_data",
          "data": {
            "text/plain": [
              "Dl Completed...:   0%|          | 0/5 [00:00<?, ? file/s]"
            ],
            "application/vnd.jupyter.widget-view+json": {
              "version_major": 2,
              "version_minor": 0,
              "model_id": "cd0c5a8d24bc4704b52751efd5d74059"
            }
          },
          "metadata": {}
        },
        {
          "output_type": "stream",
          "name": "stdout",
          "text": [
            "Dataset mnist downloaded and prepared to /root/tensorflow_datasets/mnist/3.0.1. Subsequent calls will reuse this data.\n",
            "(28, 28, 1)\n"
          ]
        }
      ]
    },
    {
      "cell_type": "markdown",
      "source": [
        "1.2 Define CNN network model"
      ],
      "metadata": {
        "id": "umvIfoiNquCv"
      }
    },
    {
      "cell_type": "code",
      "source": [
        "from tensorflow.keras import layers, models"
      ],
      "metadata": {
        "id": "L-ksdknwb69s"
      },
      "execution_count": 24,
      "outputs": []
    },
    {
      "cell_type": "code",
      "source": [
        "def create_cnn_model(input_shape, num_classes):\n",
        "    model = tf.keras.Sequential([\n",
        "        layers.Conv2D(32, kernel_size=(3, 3), strides=(1, 1), padding='same', activation='relu', input_shape=input_shape),\n",
        "\n",
        "        layers.Conv2D(64, kernel_size=(3, 3), strides=(1, 1), padding='same', activation='relu'),\n",
        "        layers.MaxPool2D(),\n",
        "\n",
        "        layers.Flatten(),\n",
        "        layers.Dense(128, activation='relu'),\n",
        "        layers.Dense(num_classes, activation='softmax')\n",
        "    ])\n",
        "    return model\n",
        "\n",
        "def load_dataset():\n",
        "    dataset_name = 'mnist'\n",
        "    ds_train, ds_info = tfds.load(\n",
        "        dataset_name,\n",
        "        split='train[:90%]',\n",
        "        shuffle_files=True,\n",
        "        as_supervised=True,\n",
        "        with_info=True\n",
        "    )\n",
        "    ds_test = tfds.load(\n",
        "        dataset_name,\n",
        "        split='train[90%:]',\n",
        "        shuffle_files=True,\n",
        "        as_supervised=True,\n",
        "    )\n",
        "    return ds_train, ds_test, ds_info"
      ],
      "metadata": {
        "id": "IXnzeDgP0QWS"
      },
      "execution_count": 8,
      "outputs": []
    },
    {
      "cell_type": "code",
      "source": [
        "ds_train, ds_test, ds_info = load_dataset()\n",
        "input_shape = (28, 28, 1)\n",
        "num_classes = 10\n",
        "model = create_cnn_model(input_shape, num_classes)\n",
        "model.compile(optimizer=tf.keras.optimizers.Adam(learning_rate=0.001, beta_1=0.9, beta_2=0.999, amsgrad=False),\n",
        "              loss='sparse_categorical_crossentropy',\n",
        "              metrics=['accuracy'])"
      ],
      "metadata": {
        "id": "WVFfYBYzdsT6"
      },
      "execution_count": 10,
      "outputs": []
    },
    {
      "cell_type": "code",
      "source": [
        "ds_train = ds_train.map(lambda image, label: (tf.image.convert_image_dtype(image, tf.float32), label))\n",
        "ds_train = ds_train.shuffle(10000)  # Shuffle the data\n",
        "train_size = int(0.9 * ds_info.splits['train'].num_examples)  # 90% for training\n",
        "val_size = ds_info.splits['train'].num_examples - train_size  # 10% for validation\n",
        "ds_train = ds_train.take(train_size).batch(32)\n",
        "ds_val = ds_train.skip(train_size).take(val_size).batch(32)"
      ],
      "metadata": {
        "id": "LQSFCrOxd4ww"
      },
      "execution_count": 11,
      "outputs": []
    },
    {
      "cell_type": "code",
      "source": [
        "history = model.fit(ds_train, epochs=6, validation_data=ds_val)"
      ],
      "metadata": {
        "colab": {
          "base_uri": "https://localhost:8080/"
        },
        "id": "KjKLN0JVeCVg",
        "outputId": "1f7bd51a-87ba-49d8-c78b-07a7f35f874b"
      },
      "execution_count": 12,
      "outputs": [
        {
          "output_type": "stream",
          "name": "stdout",
          "text": [
            "Epoch 1/6\n",
            "1688/1688 [==============================] - 229s 134ms/step - loss: 0.1168 - accuracy: 0.9632\n",
            "Epoch 2/6\n",
            "1688/1688 [==============================] - 257s 152ms/step - loss: 0.0379 - accuracy: 0.9884\n",
            "Epoch 3/6\n",
            "1688/1688 [==============================] - 219s 129ms/step - loss: 0.0237 - accuracy: 0.9920\n",
            "Epoch 4/6\n",
            "1688/1688 [==============================] - 212s 125ms/step - loss: 0.0144 - accuracy: 0.9955\n",
            "Epoch 5/6\n",
            "1688/1688 [==============================] - 215s 127ms/step - loss: 0.0113 - accuracy: 0.9963\n",
            "Epoch 6/6\n",
            "1688/1688 [==============================] - 218s 129ms/step - loss: 0.0090 - accuracy: 0.9969\n"
          ]
        }
      ]
    },
    {
      "cell_type": "code",
      "source": [
        "ds_test = ds_test.map(lambda image, label: (tf.image.convert_image_dtype(image, tf.float32), label))\n",
        "ds_test = ds_test.batch(32)\n",
        "test_loss, test_acc = model.evaluate(ds_test)"
      ],
      "metadata": {
        "colab": {
          "base_uri": "https://localhost:8080/"
        },
        "id": "zL_zD3t-eH1K",
        "outputId": "6fdd6f44-ccaa-4211-c305-7df593cec1c7"
      },
      "execution_count": 13,
      "outputs": [
        {
          "output_type": "stream",
          "name": "stdout",
          "text": [
            "188/188 [==============================] - 9s 41ms/step - loss: 0.0429 - accuracy: 0.9903\n"
          ]
        }
      ]
    },
    {
      "cell_type": "code",
      "source": [
        "print(\"Validation accuracy:\", history.history['accuracy'][-1])\n",
        "print(\"Test accuracy:\", test_acc)"
      ],
      "metadata": {
        "colab": {
          "base_uri": "https://localhost:8080/"
        },
        "id": "GdDxmRpeePvG",
        "outputId": "c795a1d7-fed9-4cdc-a32d-8feb7906a140"
      },
      "execution_count": 14,
      "outputs": [
        {
          "output_type": "stream",
          "name": "stdout",
          "text": [
            "Validation accuracy: 0.996925950050354\n",
            "Test accuracy: 0.9903333187103271\n"
          ]
        }
      ]
    },
    {
      "cell_type": "markdown",
      "source": [
        "QUESTION 2"
      ],
      "metadata": {
        "id": "0EI7Bnqf9UcC"
      }
    },
    {
      "cell_type": "code",
      "source": [
        "def load_dataset():\n",
        "    dataset_name = 'mnist'\n",
        "    ds_train, ds_info = tfds.load(\n",
        "        dataset_name,\n",
        "        split='train[:90%]',\n",
        "        shuffle_files=True,\n",
        "        as_supervised=True,\n",
        "        with_info=True\n",
        "    )\n",
        "    ds_test = tfds.load(\n",
        "        dataset_name,\n",
        "        split='train[90%:]',\n",
        "        shuffle_files=True,\n",
        "        as_supervised=True,\n",
        "    )\n",
        "    return ds_train, ds_test, ds_info\n"
      ],
      "metadata": {
        "id": "9ujZcyE5ftyJ"
      },
      "execution_count": 18,
      "outputs": []
    },
    {
      "cell_type": "code",
      "source": [
        "def normalize_image(image, label):\n",
        "    image = tf.cast(image, tf.float32)\n",
        "    image /= 255.0\n",
        "    return image, label\n",
        "\n",
        "def create_deep_mlp_model(input_shape, num_classes):\n",
        "    model = models.Sequential([\n",
        "        layers.Flatten(input_shape=input_shape),\n",
        "        layers.Dense(300, activation='relu'),\n",
        "        layers.Dense(100, activation='relu'),\n",
        "        layers.Dense(num_classes, activation='softmax')\n",
        "    ])\n",
        "    return model"
      ],
      "metadata": {
        "id": "itSGUrYskhR-"
      },
      "execution_count": 19,
      "outputs": []
    },
    {
      "cell_type": "code",
      "source": [
        "def compile_and_train_model(model, train_ds, val_ds):\n",
        "    model.compile(optimizer=tf.keras.optimizers.Adam(learning_rate=0.001, beta_1=0.9, beta_2=0.999, epsilon=1e-07),\n",
        "                  loss='sparse_categorical_crossentropy',\n",
        "                  metrics=['accuracy'])\n",
        "\n",
        "    EPOCHS = 6\n",
        "    history = model.fit(train_ds, epochs=EPOCHS, validation_data=val_ds)\n",
        "    return history\n",
        "\n",
        "def evaluate_model(model, test_ds):\n",
        "    test_loss, test_accuracy = model.evaluate(test_ds)\n",
        "    return test_accuracy\n"
      ],
      "metadata": {
        "id": "5B4ADYRMkhPM"
      },
      "execution_count": 22,
      "outputs": []
    },
    {
      "cell_type": "code",
      "source": [
        "ds_train, ds_test, ds_info = load_dataset()\n",
        "input_shape = (28, 28, 1)\n",
        "num_classes = 10\n",
        "ds_train = ds_train.map(normalize_image)\n",
        "ds_train = ds_train.shuffle(10000)\n",
        "train_size = int(0.9 * ds_info.splits['train'].num_examples)\n",
        "val_size = ds_info.splits['train'].num_examples - train_size\n",
        "ds_train = ds_train.take(train_size).batch(32)\n",
        "ds_val = ds_train.skip(train_size).take(val_size).batch(32)\n",
        "\n",
        "ds_test = ds_test.map(normalize_image)\n",
        "ds_test = ds_test.batch(32)\n",
        "deep_mlp_model = create_deep_mlp_model(input_shape, num_classes)"
      ],
      "metadata": {
        "id": "8HmFUWyRkhMj"
      },
      "execution_count": 25,
      "outputs": []
    },
    {
      "cell_type": "code",
      "source": [
        "history = compile_and_train_model(deep_mlp_model, ds_train, ds_val)"
      ],
      "metadata": {
        "colab": {
          "base_uri": "https://localhost:8080/"
        },
        "id": "qu_9DLHllmHL",
        "outputId": "9f5ae075-9564-483f-9629-2d08574e2c3d"
      },
      "execution_count": 26,
      "outputs": [
        {
          "output_type": "stream",
          "name": "stdout",
          "text": [
            "Epoch 1/6\n",
            "1688/1688 [==============================] - 23s 12ms/step - loss: 0.2120 - accuracy: 0.9366\n",
            "Epoch 2/6\n",
            "1688/1688 [==============================] - 15s 8ms/step - loss: 0.0857 - accuracy: 0.9729\n",
            "Epoch 3/6\n",
            "1688/1688 [==============================] - 14s 8ms/step - loss: 0.0579 - accuracy: 0.9810\n",
            "Epoch 4/6\n",
            "1688/1688 [==============================] - 13s 8ms/step - loss: 0.0416 - accuracy: 0.9866\n",
            "Epoch 5/6\n",
            "1688/1688 [==============================] - 14s 8ms/step - loss: 0.0335 - accuracy: 0.9892\n",
            "Epoch 6/6\n",
            "1688/1688 [==============================] - 14s 8ms/step - loss: 0.0271 - accuracy: 0.9912\n"
          ]
        }
      ]
    },
    {
      "cell_type": "code",
      "source": [
        "test_accuracy = evaluate_model(deep_mlp_model, ds_test)\n",
        "test_accuracy"
      ],
      "metadata": {
        "colab": {
          "base_uri": "https://localhost:8080/"
        },
        "id": "RCusoPsrlmDI",
        "outputId": "4839bb82-d69b-4325-ab00-bf94c33098d8"
      },
      "execution_count": 27,
      "outputs": [
        {
          "output_type": "stream",
          "name": "stdout",
          "text": [
            "188/188 [==============================] - 1s 5ms/step - loss: 0.1003 - accuracy: 0.9763\n"
          ]
        },
        {
          "output_type": "execute_result",
          "data": {
            "text/plain": [
              "0.9763333201408386"
            ]
          },
          "metadata": {},
          "execution_count": 27
        }
      ]
    },
    {
      "cell_type": "markdown",
      "source": [
        "QUESTION 3"
      ],
      "metadata": {
        "id": "JLIpLwDPVdgj"
      }
    },
    {
      "cell_type": "code",
      "source": [
        "def load_dataset():\n",
        "    dataset_name = 'mnist'\n",
        "    ds_train, ds_info = tfds.load(\n",
        "        dataset_name,\n",
        "        split='train[:90%]',\n",
        "        shuffle_files=True,\n",
        "        as_supervised=True,\n",
        "        with_info=True\n",
        "    )\n",
        "    ds_test = tfds.load(\n",
        "        dataset_name,\n",
        "        split='train[90%:]',\n",
        "        shuffle_files=True,\n",
        "        as_supervised=True,\n",
        "    )\n",
        "    return ds_train, ds_test, ds_info\n",
        "\n",
        "def normalize_image(image, label):\n",
        "    image = tf.cast(image, tf.float32)\n",
        "    image /= 255.0\n",
        "    return image, label\n",
        "\n",
        "def create_mlp_model(input_shape, num_classes):\n",
        "    model = models.Sequential([\n",
        "        layers.Flatten(input_shape=input_shape),\n",
        "        layers.Dense(100, activation='relu'),\n",
        "        layers.Dense(num_classes, activation='softmax')\n",
        "    ])\n",
        "    return model\n"
      ],
      "metadata": {
        "id": "TSYnU-cNWCTK"
      },
      "execution_count": 28,
      "outputs": []
    },
    {
      "cell_type": "code",
      "source": [
        "def compile_and_train_model(model, train_ds, val_ds):\n",
        "    model.compile(optimizer=tf.keras.optimizers.Adam(learning_rate=0.001, beta_1=0.9, beta_2=0.999, epsilon=1e-07),\n",
        "                  loss='sparse_categorical_crossentropy',\n",
        "                  metrics=['accuracy'])\n",
        "    EPOCHS = 6\n",
        "    history = model.fit(train_ds, epochs=EPOCHS, validation_data=val_ds)\n",
        "    return history\n",
        "def evaluate_model(model, test_ds):\n",
        "    test_loss, test_accuracy = model.evaluate(test_ds)\n",
        "    return test_accuracy\n",
        "ds_train, ds_test, ds_info = load_dataset()\n",
        "input_shape = (28, 28, 1)\n",
        "num_classes = 10\n",
        "ds_train = ds_train.map(normalize_image)\n",
        "ds_train = ds_train.shuffle(10000)\n",
        "train_size = int(0.9 * ds_info.splits['train'].num_examples)\n",
        "val_size = ds_info.splits['train'].num_examples - train_size\n",
        "ds_train = ds_train.take(train_size).batch(32)\n",
        "ds_val = ds_train.skip(train_size).take(val_size).batch(32)\n"
      ],
      "metadata": {
        "id": "kNEF00Djfqgs"
      },
      "execution_count": 29,
      "outputs": []
    },
    {
      "cell_type": "code",
      "source": [
        "ds_test = ds_test.map(normalize_image)\n",
        "ds_test = ds_test.batch(32)\n",
        "mlp_model = create_mlp_model(input_shape, num_classes)\n",
        "history = compile_and_train_model(mlp_model, ds_train, ds_val)\n",
        "test_accuracy = evaluate_model(mlp_model, ds_test)"
      ],
      "metadata": {
        "colab": {
          "base_uri": "https://localhost:8080/"
        },
        "id": "iNm_tNNZfu-D",
        "outputId": "75bba85a-8243-4349-8870-66792bb60ead"
      },
      "execution_count": 30,
      "outputs": [
        {
          "output_type": "stream",
          "name": "stdout",
          "text": [
            "Epoch 1/6\n",
            "1688/1688 [==============================] - 11s 6ms/step - loss: 0.2899 - accuracy: 0.9170\n",
            "Epoch 2/6\n",
            "1688/1688 [==============================] - 9s 5ms/step - loss: 0.1320 - accuracy: 0.9601\n",
            "Epoch 3/6\n",
            "1688/1688 [==============================] - 9s 5ms/step - loss: 0.0915 - accuracy: 0.9725\n",
            "Epoch 4/6\n",
            "1688/1688 [==============================] - 8s 4ms/step - loss: 0.0704 - accuracy: 0.9793\n",
            "Epoch 5/6\n",
            "1688/1688 [==============================] - 7s 4ms/step - loss: 0.0546 - accuracy: 0.9839\n",
            "Epoch 6/6\n",
            "1688/1688 [==============================] - 8s 4ms/step - loss: 0.0433 - accuracy: 0.9870\n",
            "188/188 [==============================] - 1s 4ms/step - loss: 0.0877 - accuracy: 0.9757\n"
          ]
        }
      ]
    },
    {
      "cell_type": "code",
      "source": [
        "test_accuracy"
      ],
      "metadata": {
        "colab": {
          "base_uri": "https://localhost:8080/"
        },
        "id": "tQRbz1_ofxrO",
        "outputId": "0c2a1b3e-288f-4134-aa4f-6c2ac3a56947"
      },
      "execution_count": 31,
      "outputs": [
        {
          "output_type": "execute_result",
          "data": {
            "text/plain": [
              "0.9756666421890259"
            ]
          },
          "metadata": {},
          "execution_count": 31
        }
      ]
    },
    {
      "cell_type": "code",
      "source": [],
      "metadata": {
        "id": "N1K-OHMQm7Zp"
      },
      "execution_count": null,
      "outputs": []
    }
  ]
}